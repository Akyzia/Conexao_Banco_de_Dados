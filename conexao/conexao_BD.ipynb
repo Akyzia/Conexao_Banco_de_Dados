{
 "cells": [
  {
   "cell_type": "code",
   "execution_count": 20,
   "metadata": {},
   "outputs": [
    {
     "name": "stdout",
     "output_type": "stream",
     "text": [
      "Conexão bem-sucedida!\n"
     ]
    }
   ],
   "source": [
    "import psycopg2\n",
    "from psycopg2 import OperationalError\n",
    "\n",
    "#função\n",
    "def conectar():\n",
    "    try:\n",
    "        #Configurações de conexão\n",
    "        conn = psycopg2.connect(\n",
    "            dbname='Projeto2', #nome do banco de dados\n",
    "            user='postgres', #nome do usuario\n",
    "            password='postgres', #senha\n",
    "            host='localhost',  #ou o endereço IP do servidor\n",
    "            port='5432'        #a porta padrão do PostgreSQL\n",
    "        )\n",
    "        #validação\n",
    "        print(\"Conexão bem-sucedida!\")\n",
    "        return conn\n",
    "    except OperationalError as e:\n",
    "        print(f\"Erro ao conectar: {e}\")\n",
    "        return None\n",
    "\n",
    "#Chamar a função para testar a conexão\n",
    "conn = conectar()"
   ]
  },
  {
   "cell_type": "code",
   "execution_count": 21,
   "metadata": {},
   "outputs": [
    {
     "name": "stdout",
     "output_type": "stream",
     "text": [
      "Nome: Carlos Silva, Telefone: 912345678\n"
     ]
    }
   ],
   "source": [
    "\n",
    "#Criação de um cursor\n",
    "cursor = conn.cursor()\n",
    "\n",
    "#Executando a consulta\n",
    "cursor.execute(\"SELECT nome, telefone FROM mbd.cliente WHERE mes_aniversario = 'Janeiro';\")\n",
    "\n",
    "#Recuperando os resultados\n",
    "resultados = cursor.fetchall()\n",
    "\n",
    "#Exibindo os resultados\n",
    "for row in resultados:\n",
    "    print(f'Nome: {row[0]}, Telefone: {row[1]}')\n",
    "\n",
    "#Fechando o cursor e a conexão\n",
    "cursor.close()\n",
    "conn.close()"
   ]
  }
 ],
 "metadata": {
  "kernelspec": {
   "display_name": "Python (base)",
   "language": "python",
   "name": "base"
  },
  "language_info": {
   "codemirror_mode": {
    "name": "ipython",
    "version": 3
   },
   "file_extension": ".py",
   "mimetype": "text/x-python",
   "name": "python",
   "nbconvert_exporter": "python",
   "pygments_lexer": "ipython3",
   "version": "3.12.3"
  }
 },
 "nbformat": 4,
 "nbformat_minor": 2
}
